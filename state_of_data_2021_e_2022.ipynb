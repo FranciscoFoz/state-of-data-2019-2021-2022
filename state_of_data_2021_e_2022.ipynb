{
  "nbformat": 4,
  "nbformat_minor": 0,
  "metadata": {
    "colab": {
      "private_outputs": true,
      "provenance": [],
      "authorship_tag": "ABX9TyMnloTkj2IVaw+3XwoTYAsb",
      "include_colab_link": true
    },
    "kernelspec": {
      "name": "ir",
      "display_name": "R"
    },
    "language_info": {
      "name": "R"
    }
  },
  "cells": [
    {
      "cell_type": "markdown",
      "metadata": {
        "id": "view-in-github",
        "colab_type": "text"
      },
      "source": [
        "<a href=\"https://colab.research.google.com/github/FranciscoFoz/state-of-data-2021-2022/blob/main/state_of_data_2021_e_2022.ipynb\" target=\"_parent\"><img src=\"https://colab.research.google.com/assets/colab-badge.svg\" alt=\"Open In Colab\"/></a>"
      ]
    },
    {
      "cell_type": "markdown",
      "source": [
        "# State of Data - 2019, 2021 e 2022 ?"
      ],
      "metadata": {
        "id": "lLwkmDkQTrd0"
      }
    },
    {
      "cell_type": "markdown",
      "source": [
        "## Importação das bibliotecas"
      ],
      "metadata": {
        "id": "tHbcUoADTyRS"
      }
    },
    {
      "cell_type": "code",
      "source": [
        "library(tidyverse)"
      ],
      "metadata": {
        "id": "3a97GNusTq2_"
      },
      "execution_count": null,
      "outputs": []
    },
    {
      "cell_type": "markdown",
      "source": [
        "## Importando dados"
      ],
      "metadata": {
        "id": "-fMYo0QsVzz1"
      }
    },
    {
      "cell_type": "code",
      "source": [
        "df_state_of_data_2019 <- read_csv('https://raw.githubusercontent.com/FranciscoFoz/state-of-data-2021-2022/main/datahackers-survey-2019-anonymous-responses.csv')\n",
        "head(df_state_of_data_2019)"
      ],
      "metadata": {
        "id": "PFOr1mcCUMBL"
      },
      "execution_count": null,
      "outputs": []
    },
    {
      "cell_type": "code",
      "execution_count": null,
      "metadata": {
        "id": "L29o959TRniS"
      },
      "outputs": [],
      "source": [
        "df_state_of_data_2021 <- read_csv('https://github.com/FranciscoFoz/state-of-data-2021-2022/blob/main/State%20of%20Data%202021%20-%20Dataset%20-%20Pgina1.csv?raw=true')\n",
        "head(df_state_of_data_2021)"
      ]
    },
    {
      "cell_type": "code",
      "source": [
        "df_state_of_data_2022 <- read_csv('https://raw.githubusercontent.com/FranciscoFoz/state-of-data-2021-2022/main/State_of_data_2022.csv')\n",
        "head(df_state_of_data_2022)"
      ],
      "metadata": {
        "id": "Rq_F9SqmSZ3S"
      },
      "execution_count": null,
      "outputs": []
    },
    {
      "cell_type": "markdown",
      "source": [
        "## State of Data 2021"
      ],
      "metadata": {
        "id": "y76mFYCnV2Q1"
      }
    },
    {
      "cell_type": "code",
      "source": [],
      "metadata": {
        "id": "4Ak62FCbVyFP"
      },
      "execution_count": null,
      "outputs": []
    }
  ]
}